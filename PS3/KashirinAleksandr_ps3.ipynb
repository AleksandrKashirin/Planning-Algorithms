{
 "cells": [
  {
   "cell_type": "markdown",
   "metadata": {},
   "source": [
    "**PS3: Value Iteration**\n",
    "\n",
    "Planning Algorithms in AI\n",
    "\n",
    "Kashirin Aleksandr\n",
    "\n",
    "Skoltech 2021\n",
    "\n",
    "**Task 1: Value Iteration G∗**\n",
    "\n",
    "In this task, you will calculate the optimal cost-to-go by using the Value Iteration algorithm explained in class"
   ]
  },
  {
   "cell_type": "code",
   "execution_count": 1,
   "metadata": {},
   "outputs": [],
   "source": [
    "# Import libraries\n",
    "import numpy as np\n",
    "from matplotlib import pyplot as plt\n",
    "import scipy as sp\n",
    "from utils import plot_enviroment, action_space, transition_function\n",
    "from vi import vi, policy_vi\n",
    "import matplotlib.animation as animation\n",
    "#%matplotlib widget\n",
    "\n",
    "# Control flags\n",
    "labelsize = 14\n",
    "titlesize = 16\n",
    "suptitlesize = 18"
   ]
  },
  {
   "cell_type": "markdown",
   "metadata": {},
   "source": [
    "Visualization of the Environment"
   ]
  },
  {
   "cell_type": "code",
   "execution_count": 2,
   "metadata": {},
   "outputs": [
    {
     "data": {
      "image/png": "[encoded data removed]",
      "text/plain": [
       "<Figure size 921.6x432 with 2 Axes>"
      ]
     },
     "metadata": {
      "needs_background": "light"
     },
     "output_type": "display_data"
    }
   ],
   "source": [
    "# Load the data\n",
    "data = np.load(\"data_ps3.npz\")\n",
    "environment = data['environment']\n",
    "\n",
    "# Plot the environment\n",
    "plt.figure(figsize=[6.4*2, 6])\n",
    "plt.suptitle('Picture 1: Visualization of the Environment', fontsize=suptitlesize)\n",
    "\n",
    "# Plot the environment\n",
    "plt.subplot(1, 2, 1)\n",
    "plt.imshow(environment)\n",
    "plt.title('Environment')\n",
    "plt.xlabel('Y', fontsize=labelsize)\n",
    "plt.ylabel('X', fontsize=labelsize)\n",
    "\n",
    "# Define goal state and initial state\n",
    "X_init = (11, 6)\n",
    "X_goal = (15, 29)\n",
    "\n",
    "# Plot the Environment with goal and initial states\n",
    "plt.subplot(1, 2, 2)\n",
    "im = plot_enviroment(environment, X_init, X_goal)\n",
    "plt.imshow(im)\n",
    "plt.title('Environment with Initial and Goal states')\n",
    "plt.text(X_init[1] - 3, X_init[0] - 1, \"Initial\", c='white')\n",
    "plt.text(X_goal[1], X_goal[0] + 3, \"Goal\", c='white', rotation='vertical', rotation_mode='anchor')\n",
    "plt.xlabel('Y', fontsize=labelsize)\n",
    "plt.ylabel('X', fontsize=labelsize)\n",
    "\n",
    "plt.show()"
   ]
  },
  {
   "cell_type": "markdown",
   "metadata": {},
   "source": [
    "**A. Enumerate the action space. The coordinates of actions are $u= (row,column)$.**"
   ]
  },
  {
   "cell_type": "code",
   "execution_count": 3,
   "metadata": {},
   "outputs": [
    {
     "name": "stdout",
     "output_type": "stream",
     "text": [
      "Up : (-1, 0)\n",
      "Left : (0, -1)\n",
      "Down : (1, 0)\n",
      "Right : (0, 1)\n"
     ]
    }
   ],
   "source": [
    "action_names = ['Up', 'Left', 'Down', 'Right']\n",
    "for i in range(len(action_space)):\n",
    "    print(action_names[i], \":\", action_space[i])\n",
    "\n",
    "# Define dictionary with action names and spaces\n",
    "actions = dict(zip(action_space, action_names))"
   ]
  },
  {
   "cell_type": "markdown",
   "metadata": {},
   "source": [
    "**B. Formulate the optimal cost-to-go G∗ in recursive form**\n",
    "\n",
    "$G_k^* = min_{u_k}(l(x_k, u_k) + G_{k+1}^*(f(x_k, u_k)))$\n",
    "\n",
    "\n"
   ]
  },
  {
   "cell_type": "markdown",
   "metadata": {},
   "source": [
    "**C. Implement the VI algorithm for infinite length sequences. To show this, you are asked to include a picture of the final G∗**"
   ]
  },
  {
   "cell_type": "code",
   "execution_count": 4,
   "metadata": {},
   "outputs": [
    {
     "data": {
      "image/png": "[encoded data removed]",
      "text/plain": [
       "<Figure size 460.8x432 with 1 Axes>"
      ]
     },
     "metadata": {
      "needs_background": "light"
     },
     "output_type": "display_data"
    }
   ],
   "source": [
    "def implement_value_iteration(env, goal, N=100, action_space=action_space):\n",
    "    \"\"\" Function returns a 2D matrix with cost-to-go to the desired goal position\n",
    "    \n",
    "    Args:\n",
    "        env - The grid environment\n",
    "        goal - The goal state\n",
    "        N - Limit of iterations for the while cycle\n",
    "        action_space - Space of possible actions for the entity\n",
    "        \n",
    "    Returns:\n",
    "        G - 2D matrix with cost-to-go to the desired goal position\n",
    "    \"\"\"\n",
    "    # Initialize action cost\n",
    "    action_cost = 1\n",
    "    # Initialize G graph\n",
    "    G = np.zeros(env.shape)\n",
    "    G[:] = np.inf\n",
    "    G[goal] = 0\n",
    "    # Initialize counter\n",
    "    counter = 0\n",
    "    # Initialize flag of G change\n",
    "    flag = True\n",
    "    # While there is a change in G graph\n",
    "    while flag == True:\n",
    "        # If the G graph was not changed\n",
    "        if flag == False:\n",
    "            # Then break the cycle\n",
    "            break\n",
    "        # Increment the counter\n",
    "        counter += 1\n",
    "        # If counter reached it is limit\n",
    "        if counter == N:\n",
    "            # Then break the cycle\n",
    "            break\n",
    "        # Set flag to False\n",
    "        flag = False\n",
    "        # Calculate G\n",
    "        # For each X, Y\n",
    "        for x in range(env.shape[0]):\n",
    "            for y in range(env.shape[1]):\n",
    "                # Check if G[X,Y] != inf\n",
    "                if G[x, y] != np.inf:\n",
    "                    # Assign the state\n",
    "                    state = (x, y)\n",
    "                    # For each action\n",
    "                    for action in action_space:\n",
    "                        # Calculate new state\n",
    "                        new_state, is_action = transition_function(env, state, action)\n",
    "                        # If action is possible\n",
    "                        if is_action:\n",
    "                            # Than compare current cost in the cell of new_state \n",
    "                            # with the cost of previous state + action cost\n",
    "                            G[new_state] = min(G[new_state], G[state] + action_cost)\n",
    "                            # Set flag True, as we modified G matrix\n",
    "                            flag = True\n",
    "    return G\n",
    "\n",
    "G_star = implement_value_iteration(environment, X_goal)\n",
    "\n",
    "# Plot the Heatmap of the matrix\n",
    "plt.figure(figsize=[6.4, 6])\n",
    "plt.imshow(G_star)\n",
    "plt.title(r'Picture 2: $G^*$', fontsize=titlesize)\n",
    "plt.xlabel('Y', fontsize=labelsize)\n",
    "plt.ylabel('X', fontsize=labelsize)\n",
    "plt.show()"
   ]
  },
  {
   "cell_type": "markdown",
   "metadata": {},
   "source": [
    "**D. Experiment with different number of iterations. Start with a 1 iteration VI, describe the results obtained and reason why.**"
   ]
  },
  {
   "cell_type": "code",
   "execution_count": 5,
   "metadata": {},
   "outputs": [
    {
     "data": {
      "image/png": "[encoded data removed]",
      "text/plain": [
       "<Figure size 1382.4x864 with 6 Axes>"
      ]
     },
     "metadata": {
      "needs_background": "light"
     },
     "output_type": "display_data"
    }
   ],
   "source": [
    "steps = [1, 3, 5, 10, 20, 30]\n",
    "G_iter = []\n",
    "for step in steps:\n",
    "    G_iter.append(implement_value_iteration(environment, X_goal, N=step))\n",
    "\n",
    "# Plot the Heatmap of the matrix\n",
    "plt.figure(figsize=[6.4*3, 6*2])\n",
    "plt.suptitle(r'Picture 3: $G^*$ propagation', fontsize=suptitlesize)\n",
    "\n",
    "for i in range(len(steps)):\n",
    "    plt.subplot(2, 3, i + 1)\n",
    "    plt.imshow(G_iter[i])\n",
    "    plt.title(f'Amount of iterations: {steps[i]}', fontsize=titlesize)\n",
    "    plt.xlabel('Y', fontsize=labelsize)\n",
    "    plt.ylabel('X', fontsize=labelsize)\n",
    "\n",
    "plt.show()"
   ]
  },
  {
   "cell_type": "markdown",
   "metadata": {},
   "source": [
    "**Task 2: Calculate a plan with VI**\n",
    "\n",
    "**Formulate how to obtain the optimal policy $u^*$ from $G^*$**\n",
    "\n",
    "The optimal cost-to-go, in addition, can be used to recover the optimal plan in the following way:\n",
    "\n",
    "$u^* = arg_{u \\in U(x)} min(l(x, u) + G^*(f(x, u)))$\n",
    "\n",
    "Simply, it just tell us that from any random point in the specified environment, we have to pick the point(state) with the number that has the lowest value and move towards these numbers in order to get an optimal path.\n",
    "\n",
    "**B: Implement an algorithm to obtain the optimal policy $u^*$ from $G^*$. This policy can be a table. To test this, start at an initial position and execute the result of your policy and the transition function until you reach the goal.**"
   ]
  },
  {
   "cell_type": "code",
   "execution_count": 6,
   "metadata": {},
   "outputs": [],
   "source": [
    "def implement_policy_VI(G, env=environment, actions=actions, action_space=action_space):\n",
    "    \"\"\" Function calculate a policy for cost-to-go 2d-matrix\n",
    "\n",
    "    Args:\n",
    "        G - 2D matrix with cost-to-go to the desired goal position\n",
    "        env - Environment workspace\n",
    "        actions - Dictionary with possible actions and coordinates {coordinates:name}\n",
    "\n",
    "    Returns:\n",
    "        policy - 2D matrix with names of actions to perform towards goal state\n",
    "    \"\"\"\n",
    "    # Initialize policy matrix\n",
    "    policy = np.chararray(G.shape, itemsize=5)\n",
    "    # For each cell in cost-to-go matrix\n",
    "    for x in range(G.shape[0]):\n",
    "        for y in range(G.shape[1]):\n",
    "            # Assign the current state\n",
    "            state = (x, y)\n",
    "            # For each action\n",
    "            for action in action_space:\n",
    "                # Calculate new state\n",
    "                new_state, is_action = transition_function(env, state, action)\n",
    "                # If action is possible\n",
    "                if is_action:\n",
    "                    # Than check if the value in the state is more\n",
    "                    # then in the new_state\n",
    "                    if G[state] > G[new_state]:\n",
    "                        # Calculate differences betwee states\n",
    "                        diff = tuple(np.array(new_state) - np.array(state))\n",
    "                        # Pick the name of the movement from actions dictionary\n",
    "                        # and assign the name of this movement to cell of policy table\n",
    "                        policy[state] = actions[diff]\n",
    "                        # if we already changed the cell, than omit other actions\n",
    "                        break\n",
    "    return policy\n",
    "\n",
    "P = implement_policy_VI(G_star)"
   ]
  },
  {
   "cell_type": "code",
   "execution_count": 7,
   "metadata": {},
   "outputs": [],
   "source": [
    "# Define functions to calculate plan\n",
    "def get_plan(X_init, X_goal, policy, actions=actions):\n",
    "    \"\"\" Function returns plan according to the obtained policy\n",
    "\n",
    "    Args:\n",
    "        X_init - Initial state\n",
    "        X_goal - Goal state\n",
    "        policy - Obtained policy\n",
    "        actions - Dictionary with possible actions and coordinates {coordinates:name}\n",
    "\n",
    "    Returns:\n",
    "        plan - Path plan\n",
    "    \"\"\"\n",
    "    # Invert actions dictionary\n",
    "    inverted_actions = {name:coordinates for coordinates, name in actions.items()}\n",
    "    # Initialize plan\n",
    "    plan = []\n",
    "    # Initialize first state\n",
    "    state = X_init\n",
    "    # While we have not reached th goal state\n",
    "    while state != X_goal:\n",
    "        # If we are reached the goal state\n",
    "        if state == X_goal:\n",
    "            # And break the cycle\n",
    "            break\n",
    "        # Append node in the plan\n",
    "        plan.append(state)\n",
    "        # Get the direction in the policy of the current state\n",
    "        direction = policy[state].decode('ascii')\n",
    "        # Get the coordinates according to the inverted dictionary\n",
    "        coordinates = inverted_actions[direction]\n",
    "        # Get the new state\n",
    "        state = tuple(np.array(state) + np.array(coordinates))\n",
    "    # Append the last state\n",
    "    plan.append(X_goal)\n",
    "    return plan\n",
    "\n",
    "plan = get_plan(X_init, X_goal, P)"
   ]
  },
  {
   "cell_type": "code",
   "execution_count": 8,
   "metadata": {},
   "outputs": [
    {
     "name": "stderr",
     "output_type": "stream",
     "text": [
      "MovieWriter ffmpeg unavailable; using Pillow instead.\n"
     ]
    },
    {
     "data": {
      "image/png": "[encoded data removed]",
      "text/plain": [
       "<Figure size 432x288 with 1 Axes>"
      ]
     },
     "metadata": {
      "needs_background": "light"
     },
     "output_type": "display_data"
    }
   ],
   "source": [
    "# Visualization of the algorithm\n",
    "fig = plt.figure()\n",
    "imgs = []\n",
    "for X in plan:\n",
    "    im = plot_enviroment(environment, X, X_goal)\n",
    "    plot = plt.imshow(im)\n",
    "    imgs.append([plot])\n",
    "\n",
    "ani = animation.ArtistAnimation(fig, imgs, interval=100, blit=True)\n",
    "ani.save('plan_vi.gif')\n",
    "plt.show()"
   ]
  },
  {
   "cell_type": "markdown",
   "metadata": {},
   "source": [
    "**C. Experiment with different parameters, such as starting points, the order of the states you use in VI (for loops) and the order of the actions. Explain your observations.**\n",
    "\n",
    "**a) Change the starting point**"
   ]
  },
  {
   "cell_type": "code",
   "execution_count": 9,
   "metadata": {},
   "outputs": [
    {
     "name": "stderr",
     "output_type": "stream",
     "text": [
      "MovieWriter ffmpeg unavailable; using Pillow instead.\n"
     ]
    },
    {
     "data": {
      "image/png": "[encoded data removed]",
      "text/plain": [
       "<Figure size 432x288 with 1 Axes>"
      ]
     },
     "metadata": {
      "needs_background": "light"
     },
     "output_type": "display_data"
    }
   ],
   "source": [
    "# Different starting point\n",
    "X_start = (1, 1)\n",
    "plan_C_a = get_plan(X_start, X_goal, P)\n",
    "\n",
    "# Visualization of the algorithm\n",
    "fig = plt.figure()\n",
    "imgs = []\n",
    "for X in plan_C_a:\n",
    "    im = plot_enviroment(environment, X, X_goal)\n",
    "    plot = plt.imshow(im)\n",
    "    imgs.append([plot])\n",
    "\n",
    "ani = animation.ArtistAnimation(fig, imgs, interval=100, blit=True)\n",
    "ani.save('plan_C_a.gif')\n",
    "plt.show()"
   ]
  },
  {
   "cell_type": "markdown",
   "metadata": {},
   "source": [
    "**Comment: With another starting point (1,1) algorithm works well.**\n",
    "\n",
    "**b) Change of state iteration**"
   ]
  },
  {
   "cell_type": "code",
   "execution_count": 10,
   "metadata": {},
   "outputs": [
    {
     "data": {
      "image/png": "[encoded data removed]",
      "text/plain": [
       "<Figure size 1382.4x864 with 6 Axes>"
      ]
     },
     "metadata": {
      "needs_background": "light"
     },
     "output_type": "display_data"
    }
   ],
   "source": [
    "# Changing order of states for the value iteration algorithm\n",
    "\n",
    "def implement_changed_value_iteration(env, goal, N=100):\n",
    "    \"\"\" Function returns a 2D matrix with cost-to-go to the desired goal position\n",
    "    \n",
    "    Args:\n",
    "        env - The grid environment\n",
    "        goal - The goal state\n",
    "        N - Limit of iterations for the while cycle\n",
    "\n",
    "    Returns:\n",
    "        G - 2D matrix with cost-to-go to the desired goal position\n",
    "    \"\"\"\n",
    "    # Initialize action cost\n",
    "    action_cost = 1\n",
    "    # Initialize G graph\n",
    "    G = np.zeros(env.shape)\n",
    "    G[:] = np.inf\n",
    "    G[goal] = 0\n",
    "    # Initialize counter\n",
    "    counter = 0\n",
    "    # Initialize flag of G change\n",
    "    flag = True\n",
    "    # While there is a change in G graph\n",
    "    while flag == True:\n",
    "        # If the G graph was not changed\n",
    "        if flag == False:\n",
    "            # Then break the cycle\n",
    "            break\n",
    "        # Increment the counter\n",
    "        counter += 1\n",
    "        # If counter reached it is limit\n",
    "        if counter == N:\n",
    "            # Then break the cycle\n",
    "            break\n",
    "        # Set flag to False\n",
    "        flag = False\n",
    "        # Calculate G\n",
    "        # For each X, Y\n",
    "        for x in range(env.shape[0]-1, -1, -1):      # <----- Here is the change\n",
    "            for y in range(env.shape[1]-1, -1, -1):  # <----- Here is the change\n",
    "                # Check if G[X,Y] != inf\n",
    "                if G[x, y] != np.inf:\n",
    "                    # Assign the state\n",
    "                    state = (x, y)\n",
    "                    # For each action\n",
    "                    for action in action_space:\n",
    "                        # Calculate new state\n",
    "                        new_state, is_action = transition_function(env, state, action)\n",
    "                        # If action is possible\n",
    "                        if is_action:\n",
    "                            # Than compare current cost in the cell of new_state \n",
    "                            # with the cost of previous state + action cost\n",
    "                            G[new_state] = min(G[new_state], G[state] + action_cost)\n",
    "                            # Set flag True, as we modified G matrix\n",
    "                            flag = True\n",
    "    return G\n",
    "\n",
    "steps = [1, 3, 5, 10, 20, 30]\n",
    "G_iter = []\n",
    "for step in steps:\n",
    "    G_iter.append(implement_changed_value_iteration(environment, X_goal, N=step))\n",
    "\n",
    "# Plot the Heatmap of the matrix\n",
    "plt.figure(figsize=[6.4*3, 6*2])\n",
    "plt.suptitle(r'Picture 4: $G^*$ propagation with state iteration', fontsize=suptitlesize)\n",
    "\n",
    "for i in range(len(steps)):\n",
    "    plt.subplot(2, 3, i + 1)\n",
    "    plt.imshow(G_iter[i])\n",
    "    plt.title(f'Amount of iterations: {steps[i]}', fontsize=titlesize)\n",
    "    plt.xlabel('Y', fontsize=labelsize)\n",
    "    plt.ylabel('X', fontsize=labelsize)\n",
    "\n",
    "plt.show()"
   ]
  },
  {
   "cell_type": "markdown",
   "metadata": {},
   "source": [
    "**Comment: As the result, we have obtained a faster way to calculate cost-to-go matrix for the particular goal state. We can now compare picture 3 and 4. And in 20 iterations changed state direction let us obtain a full cost-to-go graph.**\n",
    "\n",
    "**c) Change of actions**"
   ]
  },
  {
   "cell_type": "code",
   "execution_count": 20,
   "metadata": {},
   "outputs": [
    {
     "name": "stderr",
     "output_type": "stream",
     "text": [
      "MovieWriter ffmpeg unavailable; using Pillow instead.\n"
     ]
    },
    {
     "data": {
      "image/png": "[encoded data removed]",
      "text/plain": [
       "<Figure size 432x288 with 1 Axes>"
      ]
     },
     "metadata": {
      "needs_background": "light"
     },
     "output_type": "display_data"
    },
    {
     "name": "stdout",
     "output_type": "stream",
     "text": [
      "-------------------------------------\n",
      "Original plan length: 42\n",
      "Plan length with inverted actions: 42\n",
      "-------------------------------------\n"
     ]
    }
   ],
   "source": [
    "inv_action_space = action_space[::-1]\n",
    "\n",
    "P_inv = implement_policy_VI(G_star, action_space=inv_action_space)\n",
    "\n",
    "plan_C_d = get_plan(X_init, X_goal, P_inv)\n",
    "\n",
    "# Visualization of the algorithm\n",
    "fig = plt.figure()\n",
    "imgs = []\n",
    "for X in plan_C_d:\n",
    "    im = plot_enviroment(environment, X, X_goal)\n",
    "    plot = plt.imshow(im)\n",
    "    imgs.append([plot])\n",
    "\n",
    "ani = animation.ArtistAnimation(fig, imgs, interval=100, blit=True)\n",
    "ani.save('plan_C_d.gif')\n",
    "plt.show()\n",
    "\n",
    "# Compare plans length\n",
    "print('-------------------------------------')\n",
    "print(f'Original plan length: {len(plan)}')\n",
    "print(f'Plan length with inverted actions: {len(plan_C_d)}')\n",
    "print('-------------------------------------')"
   ]
  },
  {
   "cell_type": "markdown",
   "metadata": {},
   "source": [
    "**Comment: Policy was changed and hence the plan was changed but in the end the plan length remains the same.**\n",
    "\n",
    "**Conclusion: Value Iteration is an algorithm that could be used as an alternative to $A^*$ or Djikstra. The main advantage of VI is that we need to calculate for the particular target only once and then we can use cost-to-go matrix to reach the target point from any other state.**"
   ]
  }
 ],
 "metadata": {
  "interpreter": {
   "hash": "2647ea34e536f865ab67ff9ddee7fd78773d956cec0cab53c79b32cd10da5d83"
  },
  "kernelspec": {
   "display_name": "Python 3.9.2 64-bit",
   "language": "python",
   "name": "python3"
  },
  "language_info": {
   "codemirror_mode": {
    "name": "ipython",
    "version": 3
   },
   "file_extension": ".py",
   "mimetype": "text/x-python",
   "name": "python",
   "nbconvert_exporter": "python",
   "pygments_lexer": "ipython3",
   "version": "3.9.2"
  },
  "orig_nbformat": 4
 },
 "nbformat": 4,
 "nbformat_minor": 2
}
